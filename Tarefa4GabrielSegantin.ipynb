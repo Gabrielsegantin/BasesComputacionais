{
  "nbformat": 4,
  "nbformat_minor": 0,
  "metadata": {
    "colab": {
      "provenance": [],
      "collapsed_sections": [],
      "authorship_tag": "ABX9TyMg3ywGExUbyp2H8DAd02EB",
      "include_colab_link": true
    },
    "kernelspec": {
      "name": "python3",
      "display_name": "Python 3"
    },
    "language_info": {
      "name": "python"
    }
  },
  "cells": [
    {
      "cell_type": "markdown",
      "metadata": {
        "id": "view-in-github",
        "colab_type": "text"
      },
      "source": [
        "<a href=\"https://colab.research.google.com/github/Gabrielsegantin/BasesComputacionais/blob/master/Tarefa4GabrielSegantin.ipynb\" target=\"_parent\"><img src=\"https://colab.research.google.com/assets/colab-badge.svg\" alt=\"Open In Colab\"/></a>"
      ]
    },
    {
      "cell_type": "markdown",
      "source": [
        "# Tarefa 4\n",
        "Gabriel Ian Segantin Luiz"
      ],
      "metadata": {
        "id": "x2U6VwjNPA9h"
      }
    },
    {
      "cell_type": "markdown",
      "source": [
        "Exercício 1 "
      ],
      "metadata": {
        "id": "IJ343MQ0PIqF"
      }
    },
    {
      "cell_type": "code",
      "source": [
        "# Volume de uma esfera = 4/3*np.pi*r**3"
      ],
      "metadata": {
        "id": "1yYjPB8_PMTI"
      },
      "execution_count": 64,
      "outputs": []
    },
    {
      "cell_type": "code",
      "source": [
        "import numpy as np"
      ],
      "metadata": {
        "id": "NytiWZX3Us7I"
      },
      "execution_count": 20,
      "outputs": []
    },
    {
      "cell_type": "code",
      "source": [
        "np.pi"
      ],
      "metadata": {
        "colab": {
          "base_uri": "https://localhost:8080/"
        },
        "id": "m6z7vlYiU5Oi",
        "outputId": "f31d5444-ce95-4e28-f715-52c4bab125b4"
      },
      "execution_count": 21,
      "outputs": [
        {
          "output_type": "execute_result",
          "data": {
            "text/plain": [
              "3.141592653589793"
            ]
          },
          "metadata": {},
          "execution_count": 21
        }
      ]
    },
    {
      "cell_type": "code",
      "source": [
        "Volume =print(4/3*np.pi*0.32**3) #Para r=0.32m"
      ],
      "metadata": {
        "colab": {
          "base_uri": "https://localhost:8080/"
        },
        "id": "FJSyKqV-XB4C",
        "outputId": "90a088ee-a70c-4013-bac6-727d002b1213"
      },
      "execution_count": 50,
      "outputs": [
        {
          "output_type": "stream",
          "name": "stdout",
          "text": [
            "0.13725827743044047\n"
          ]
        }
      ]
    },
    {
      "cell_type": "code",
      "source": [
        "Volume =print(4/3*np.pi*1**3) #Para r= 1m"
      ],
      "metadata": {
        "colab": {
          "base_uri": "https://localhost:8080/"
        },
        "id": "jyH2do7UXkSz",
        "outputId": "3f7b6a52-ebb4-4e8c-be4c-f760d536b236"
      },
      "execution_count": 52,
      "outputs": [
        {
          "output_type": "stream",
          "name": "stdout",
          "text": [
            "4.1887902047863905\n"
          ]
        }
      ]
    },
    {
      "cell_type": "code",
      "source": [
        "Volume =print(4/3*np.pi*1.9**3) #Para r=1.9m"
      ],
      "metadata": {
        "colab": {
          "base_uri": "https://localhost:8080/"
        },
        "id": "h4aZ5aeqX-CX",
        "outputId": "e85898f1-1dbe-410c-cb26-916eecad8820"
      },
      "execution_count": 54,
      "outputs": [
        {
          "output_type": "stream",
          "name": "stdout",
          "text": [
            "28.730912014629848\n"
          ]
        }
      ]
    },
    {
      "cell_type": "markdown",
      "source": [
        "Exercício 2"
      ],
      "metadata": {
        "id": "ja1BswyXYm7P"
      }
    },
    {
      "cell_type": "code",
      "source": [
        "#Celsius para Fahrenheit = C/5*9+32=F"
      ],
      "metadata": {
        "id": "w5G0rSBXYouI"
      },
      "execution_count": 65,
      "outputs": []
    },
    {
      "cell_type": "code",
      "source": [
        "print(-10/5*9+32) #Para Tc= -10"
      ],
      "metadata": {
        "colab": {
          "base_uri": "https://localhost:8080/"
        },
        "id": "dYPeRtnXZQLs",
        "outputId": "eb66a609-20c4-4640-910d-9e1dee0d2c93"
      },
      "execution_count": 59,
      "outputs": [
        {
          "output_type": "stream",
          "name": "stdout",
          "text": [
            "14.0\n"
          ]
        }
      ]
    },
    {
      "cell_type": "code",
      "source": [
        "print(30/5*9+32) #Para Tc= 30"
      ],
      "metadata": {
        "colab": {
          "base_uri": "https://localhost:8080/"
        },
        "id": "om2XTr-aZpCQ",
        "outputId": "627e0b04-21e3-4db7-8887-00f470496efe"
      },
      "execution_count": 61,
      "outputs": [
        {
          "output_type": "stream",
          "name": "stdout",
          "text": [
            "86.0\n"
          ]
        }
      ]
    },
    {
      "cell_type": "code",
      "source": [
        "print(5/5*9+32) #Para Tc=5"
      ],
      "metadata": {
        "colab": {
          "base_uri": "https://localhost:8080/"
        },
        "id": "IhPvABz3aBm3",
        "outputId": "b5fc261b-9e54-4b68-d7b0-1ba59072c654"
      },
      "execution_count": 62,
      "outputs": [
        {
          "output_type": "stream",
          "name": "stdout",
          "text": [
            "41.0\n"
          ]
        }
      ]
    },
    {
      "cell_type": "markdown",
      "source": [
        "Exercício 3"
      ],
      "metadata": {
        "id": "grnCAURFapGP"
      }
    },
    {
      "cell_type": "code",
      "source": [
        "#c= a**2+b**2-2*a*b*cos(θ)"
      ],
      "metadata": {
        "id": "Sai6SUzgaq8h"
      },
      "execution_count": 66,
      "outputs": []
    },
    {
      "cell_type": "code",
      "source": [
        "print(1**2+2**2-2*1*2*3**(1/2)/2) #Para a=1; b=2; cos(30)=3**(1/2)/2"
      ],
      "metadata": {
        "colab": {
          "base_uri": "https://localhost:8080/"
        },
        "id": "7qBea2Isbu-H",
        "outputId": "783d63f0-3248-44d8-a9ba-f1cedf3d38bd"
      },
      "execution_count": 86,
      "outputs": [
        {
          "output_type": "stream",
          "name": "stdout",
          "text": [
            "1.5358983848622456\n"
          ]
        }
      ]
    },
    {
      "cell_type": "code",
      "source": [
        "print(1.5358983848622456 **(1/2))"
      ],
      "metadata": {
        "colab": {
          "base_uri": "https://localhost:8080/"
        },
        "id": "e2813enrcJY2",
        "outputId": "84b3eab5-9cec-4d1b-f3ea-a945819e9ed5"
      },
      "execution_count": 77,
      "outputs": [
        {
          "output_type": "stream",
          "name": "stdout",
          "text": [
            "1.239313674927476\n"
          ]
        }
      ]
    },
    {
      "cell_type": "code",
      "source": [
        "c = 1.239313674927476 #Para a=1; b=2; cos(30)=3**(1/2)/2"
      ],
      "metadata": {
        "id": "Tn4N7fHRdUUb"
      },
      "execution_count": 87,
      "outputs": []
    },
    {
      "cell_type": "code",
      "source": [
        "print(3**2+1**2-2*3*1*2**(1/2)/2) #Para a=3; b=1; cos(45)=2**(1/2)/2"
      ],
      "metadata": {
        "colab": {
          "base_uri": "https://localhost:8080/"
        },
        "id": "cYDi78xxd187",
        "outputId": "539e2ebe-49aa-4f48-970c-33eac12322a5"
      },
      "execution_count": 81,
      "outputs": [
        {
          "output_type": "stream",
          "name": "stdout",
          "text": [
            "5.757359312880714\n"
          ]
        }
      ]
    },
    {
      "cell_type": "code",
      "source": [
        "print(5.757359312880714 **(1/2))"
      ],
      "metadata": {
        "colab": {
          "base_uri": "https://localhost:8080/"
        },
        "id": "VVblWHwXeM58",
        "outputId": "f5e0100b-31e0-430e-dc32-4f427fc66e90"
      },
      "execution_count": 82,
      "outputs": [
        {
          "output_type": "stream",
          "name": "stdout",
          "text": [
            "2.3994497937820483\n"
          ]
        }
      ]
    },
    {
      "cell_type": "code",
      "source": [
        "c = 2.3994497937820483 #Para a=3; b=1; cos(45)=2**(1/2)/2"
      ],
      "metadata": {
        "id": "xb9ioDvaedcB"
      },
      "execution_count": 84,
      "outputs": []
    },
    {
      "cell_type": "code",
      "source": [
        "print(10**2+11**2-2*10*11*0.9659) #Para a=10; b=11; cos(15)= 0,9659"
      ],
      "metadata": {
        "colab": {
          "base_uri": "https://localhost:8080/"
        },
        "id": "PsPq_jJJegGB",
        "outputId": "68f87712-0981-4905-e33d-fa18915c2af8"
      },
      "execution_count": 99,
      "outputs": [
        {
          "output_type": "stream",
          "name": "stdout",
          "text": [
            "8.50200000000001\n"
          ]
        }
      ]
    },
    {
      "cell_type": "code",
      "source": [
        "print(8.50200000000001 **(1/2))"
      ],
      "metadata": {
        "colab": {
          "base_uri": "https://localhost:8080/"
        },
        "id": "fqDAVTN2f1Z8",
        "outputId": "eca81551-41b6-4543-ed71-e7ee65b361bd"
      },
      "execution_count": 100,
      "outputs": [
        {
          "output_type": "stream",
          "name": "stdout",
          "text": [
            "2.915818924419006\n"
          ]
        }
      ]
    },
    {
      "cell_type": "code",
      "source": [
        "c = 2.915818924419006 #Para a=10; b=11; cos(15)= 0,9659"
      ],
      "metadata": {
        "id": "rDbcwv8tg3xJ"
      },
      "execution_count": 102,
      "outputs": []
    },
    {
      "cell_type": "markdown",
      "source": [
        "Exercício 4"
      ],
      "metadata": {
        "id": "RclocH28g-Ma"
      }
    },
    {
      "cell_type": "code",
      "source": [
        "print((1+5**(1/2)/2)**30) #Para i=30"
      ],
      "metadata": {
        "colab": {
          "base_uri": "https://localhost:8080/"
        },
        "id": "wLsIb4bxg_WE",
        "outputId": "75c0860b-9cb8-442c-a354-041596f690c7"
      },
      "execution_count": 130,
      "outputs": [
        {
          "output_type": "stream",
          "name": "stdout",
          "text": [
            "5997741619.479143\n"
          ]
        }
      ]
    },
    {
      "cell_type": "code",
      "source": [
        "print((1-5**(1/2)/2)**30)"
      ],
      "metadata": {
        "colab": {
          "base_uri": "https://localhost:8080/"
        },
        "id": "ieyl_yXHkU-A",
        "outputId": "f370c402-fb7f-42c4-8091-b18019f30566"
      },
      "execution_count": 113,
      "outputs": [
        {
          "output_type": "stream",
          "name": "stdout",
          "text": [
            "1.4461472217666818e-28\n"
          ]
        }
      ]
    },
    {
      "cell_type": "code",
      "source": [
        "print( 5997741619.479143 - 1.4461472217666818e-28 )"
      ],
      "metadata": {
        "colab": {
          "base_uri": "https://localhost:8080/"
        },
        "id": "FKIEDFWBl__q",
        "outputId": "c67731f2-d892-4fb5-882e-96a221233af0"
      },
      "execution_count": 122,
      "outputs": [
        {
          "output_type": "stream",
          "name": "stdout",
          "text": [
            "5997741619.479143\n"
          ]
        }
      ]
    },
    {
      "cell_type": "code",
      "source": [
        "print(5997741619.479143/5**(1/2))"
      ],
      "metadata": {
        "colab": {
          "base_uri": "https://localhost:8080/"
        },
        "id": "deTJC9bUmHyf",
        "outputId": "9e76be71-fddd-4516-cd44-fd3f9e93d27d"
      },
      "execution_count": 115,
      "outputs": [
        {
          "output_type": "stream",
          "name": "stdout",
          "text": [
            "2682271594.527008\n"
          ]
        }
      ]
    },
    {
      "cell_type": "code",
      "source": [
        "print(np.floor(2682271594.527008))"
      ],
      "metadata": {
        "colab": {
          "base_uri": "https://localhost:8080/"
        },
        "id": "8chLPBgcmQgW",
        "outputId": "063050e9-2892-4097-d790-4803675c1189"
      },
      "execution_count": 123,
      "outputs": [
        {
          "output_type": "stream",
          "name": "stdout",
          "text": [
            "2682271594.0\n"
          ]
        }
      ]
    },
    {
      "cell_type": "code",
      "source": [
        "print((1+5**(1/2)/2)**31) #Para i=31"
      ],
      "metadata": {
        "colab": {
          "base_uri": "https://localhost:8080/"
        },
        "id": "pgzqCBmKm1EX",
        "outputId": "0780e2ef-d6fe-40e7-f496-d90b0a003d18"
      },
      "execution_count": 129,
      "outputs": [
        {
          "output_type": "stream",
          "name": "stdout",
          "text": [
            "12703420605.796665\n"
          ]
        }
      ]
    },
    {
      "cell_type": "code",
      "source": [
        "print((1-5**(1/2)/2)**31)"
      ],
      "metadata": {
        "colab": {
          "base_uri": "https://localhost:8080/"
        },
        "id": "ftZglfxpm71A",
        "outputId": "6e0d47bd-a1e6-41fa-e889-17b3bcd5fa9c"
      },
      "execution_count": 125,
      "outputs": [
        {
          "output_type": "stream",
          "name": "stdout",
          "text": [
            "-1.7069452490470028e-29\n"
          ]
        }
      ]
    },
    {
      "cell_type": "code",
      "source": [
        "print(12703420605.796665 -1.7069452490470028e-29)"
      ],
      "metadata": {
        "colab": {
          "base_uri": "https://localhost:8080/"
        },
        "id": "l57iZNGPm9ok",
        "outputId": "98a10837-856d-499e-cf80-519ae3e9a9bc"
      },
      "execution_count": 126,
      "outputs": [
        {
          "output_type": "stream",
          "name": "stdout",
          "text": [
            "12703420605.796665\n"
          ]
        }
      ]
    },
    {
      "cell_type": "code",
      "source": [
        "print(12703420605.796665/5**(1/2))"
      ],
      "metadata": {
        "colab": {
          "base_uri": "https://localhost:8080/"
        },
        "id": "ibQ_owCKnA7s",
        "outputId": "7e5cfcb1-aa6b-4f74-c0ca-433d01841094"
      },
      "execution_count": 127,
      "outputs": [
        {
          "output_type": "stream",
          "name": "stdout",
          "text": [
            "5681142404.266581\n"
          ]
        }
      ]
    },
    {
      "cell_type": "code",
      "source": [
        "print(np.floor(5681142404.266581))"
      ],
      "metadata": {
        "colab": {
          "base_uri": "https://localhost:8080/"
        },
        "id": "8ExfYCNOnGSA",
        "outputId": "46d0375a-6179-474e-bb74-431f8c9c9d7f"
      },
      "execution_count": 128,
      "outputs": [
        {
          "output_type": "stream",
          "name": "stdout",
          "text": [
            "5681142404.0\n"
          ]
        }
      ]
    },
    {
      "cell_type": "code",
      "source": [
        "print((1+5**(1/2)/2)**32) #Para i=32"
      ],
      "metadata": {
        "colab": {
          "base_uri": "https://localhost:8080/"
        },
        "id": "89l7t5uunKhH",
        "outputId": "daef572c-81dc-4113-8c97-1c195bd34307"
      },
      "execution_count": 131,
      "outputs": [
        {
          "output_type": "stream",
          "name": "stdout",
          "text": [
            "26906276616.463116\n"
          ]
        }
      ]
    },
    {
      "cell_type": "code",
      "source": [
        "print((1-5**(1/2)/2)**32)"
      ],
      "metadata": {
        "colab": {
          "base_uri": "https://localhost:8080/"
        },
        "id": "-4M1IZznnjoS",
        "outputId": "710a301b-08f4-441d-f61c-3c4b3aaaf91a"
      },
      "execution_count": 132,
      "outputs": [
        {
          "output_type": "stream",
          "name": "stdout",
          "text": [
            "2.014775563227005e-30\n"
          ]
        }
      ]
    },
    {
      "cell_type": "code",
      "source": [
        "print(26906276616.463116 - 2.014775563227005e-30)"
      ],
      "metadata": {
        "colab": {
          "base_uri": "https://localhost:8080/"
        },
        "id": "MZR78YKEnqbQ",
        "outputId": "9f1e81a0-436b-4161-cac9-8ce7b14c04f9"
      },
      "execution_count": 133,
      "outputs": [
        {
          "output_type": "stream",
          "name": "stdout",
          "text": [
            "26906276616.463116\n"
          ]
        }
      ]
    },
    {
      "cell_type": "code",
      "source": [
        "print(np.floor(26906276616.463116))"
      ],
      "metadata": {
        "colab": {
          "base_uri": "https://localhost:8080/"
        },
        "id": "v--S4hCbnuUf",
        "outputId": "2af4fffe-8c4d-4960-e54d-0ee9330e3157"
      },
      "execution_count": 135,
      "outputs": [
        {
          "output_type": "stream",
          "name": "stdout",
          "text": [
            "26906276616.0\n"
          ]
        }
      ]
    }
  ]
}