{
  "nbformat": 4,
  "nbformat_minor": 0,
  "metadata": {
    "colab": {
      "provenance": [],
      "collapsed_sections": [],
      "authorship_tag": "ABX9TyNAm8LDtcsCX8+Q9JyXVUw0",
      "include_colab_link": true
    },
    "kernelspec": {
      "name": "python3",
      "display_name": "Python 3"
    },
    "language_info": {
      "name": "python"
    }
  },
  "cells": [
    {
      "cell_type": "markdown",
      "metadata": {
        "id": "view-in-github",
        "colab_type": "text"
      },
      "source": [
        "<a href=\"https://colab.research.google.com/github/Gabrielsegantin/BasesComputacionais/blob/master/GabrielSegantin_Tarefa_3.ipynb\" target=\"_parent\"><img src=\"https://colab.research.google.com/assets/colab-badge.svg\" alt=\"Open In Colab\"/></a>"
      ]
    },
    {
      "cell_type": "code",
      "execution_count": null,
      "metadata": {
        "id": "kBI407E_IxjS"
      },
      "outputs": [],
      "source": []
    },
    {
      "cell_type": "markdown",
      "source": [
        "# Tarefa 3\n",
        "Gabriel Ian Segantin Luiz"
      ],
      "metadata": {
        "id": "OK9_E7knJIFs"
      }
    },
    {
      "cell_type": "code",
      "source": [
        "# hora - minuto = hora * 60"
      ],
      "metadata": {
        "id": "usGmxOAnJVl0"
      },
      "execution_count": 2,
      "outputs": []
    },
    {
      "cell_type": "code",
      "source": [
        "# minuto - segundo = minuto * 60"
      ],
      "metadata": {
        "id": "SPxbxWooJf9G"
      },
      "execution_count": 3,
      "outputs": []
    },
    {
      "cell_type": "code",
      "source": [
        "h = 60 * 60\n"
      ],
      "metadata": {
        "id": "j2852BplJo25"
      },
      "execution_count": 11,
      "outputs": []
    },
    {
      "cell_type": "code",
      "source": [
        "print(1.5 * h )"
      ],
      "metadata": {
        "colab": {
          "base_uri": "https://localhost:8080/"
        },
        "id": "4lya99JwLgPd",
        "outputId": "2c1e52ad-c92b-4e03-f120-39c5da378abf"
      },
      "execution_count": 12,
      "outputs": [
        {
          "output_type": "stream",
          "name": "stdout",
          "text": [
            "5400.0\n"
          ]
        }
      ]
    },
    {
      "cell_type": "code",
      "source": [
        "print(12 * h)"
      ],
      "metadata": {
        "colab": {
          "base_uri": "https://localhost:8080/"
        },
        "id": "omWBB1MsL-cf",
        "outputId": "e17bade0-4fc2-4696-e675-dc483d2b2466"
      },
      "execution_count": 13,
      "outputs": [
        {
          "output_type": "stream",
          "name": "stdout",
          "text": [
            "43200\n"
          ]
        }
      ]
    },
    {
      "cell_type": "code",
      "source": [
        "print(24 * h)"
      ],
      "metadata": {
        "colab": {
          "base_uri": "https://localhost:8080/"
        },
        "id": "tqYEYuTcM7L1",
        "outputId": "1c26d5bd-9f0c-4dca-cb74-0c9a2a806987"
      },
      "execution_count": 14,
      "outputs": [
        {
          "output_type": "stream",
          "name": "stdout",
          "text": [
            "86400\n"
          ]
        }
      ]
    },
    {
      "cell_type": "code",
      "source": [],
      "metadata": {
        "id": "4mQRSz_0M9ys"
      },
      "execution_count": null,
      "outputs": []
    }
  ]
}